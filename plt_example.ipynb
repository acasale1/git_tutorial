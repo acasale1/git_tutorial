{
 "cells": [
  {
   "cell_type": "code",
   "execution_count": 12,
   "id": "5a19b981-a0f0-4ad1-aa2a-0cc4013fcb8b",
   "metadata": {},
   "outputs": [],
   "source": [
    "import numpy as np\n",
    "import pandas as pd\n",
    "import matplotlib.pyplot as plt\n",
    "from matplotlib.ticker import (MultipleLocator,StrMethodFormatter)"
   ]
  },
  {
   "cell_type": "code",
   "execution_count": 13,
   "id": "f592c833-41a7-499c-a0f2-cb107f840f00",
   "metadata": {},
   "outputs": [],
   "source": [
    "df = pd.read_excel('Mn_pydata.xlsx', header=None)"
   ]
  },
  {
   "cell_type": "code",
   "execution_count": 14,
   "id": "aaba9269-7bad-4c24-83d5-9393b55b29ae",
   "metadata": {},
   "outputs": [],
   "source": [
    "data = np.array(df)"
   ]
  },
  {
   "cell_type": "code",
   "execution_count": 15,
   "id": "3523d5fb-0055-4894-8d12-bf2e5e306dbc",
   "metadata": {},
   "outputs": [],
   "source": [
    "hubu = data[:,0]\n",
    "ediff = data[:,1]\n",
    "sgmo = data[:,2]"
   ]
  },
  {
   "cell_type": "code",
   "execution_count": 18,
   "id": "ffa82374-47cb-44cd-aab8-b548e7a6a41e",
   "metadata": {},
   "outputs": [
    {
     "data": {
      "image/png": "[encoded data removed]",
      "text/plain": [
       "<Figure size 432x288 with 1 Axes>"
      ]
     },
     "metadata": {
      "needs_background": "light"
     },
     "output_type": "display_data"
    }
   ],
   "source": [
    "#fig, ax = plt.subplots(figsize = (5,5))\n",
    "fig, ax = plt.subplots()\n",
    "ax.plot(hubu,ediff,'x')\n",
    "plt.xlabel('Hubbard U (eV)')\n",
    "plt.ylabel(r'$\\Delta$E (eV)')\n",
    "plt.ylim(0,0.5)\n",
    "plt.xlim(-1,7)\n",
    "ax.yaxis.set_major_formatter(StrMethodFormatter('{x:,.3f}'))\n",
    "ax.yaxis.set_major_locator(MultipleLocator(0.1))\n",
    "ax.xaxis.set_major_formatter(StrMethodFormatter('{x:,.0f}'))\n",
    "ax.xaxis.set_major_locator(MultipleLocator(2))\n",
    "for i, txt in enumerate(sgmo):\n",
    "    ax.annotate(txt, (hubu[i],ediff[i]))\n",
    "#plt.savefig('K2CrO3.pdf', dpi=450, bbox_inches = 'tight')\n",
    "plt.savefig('K2MnO3_2.pdf', dpi = 450)"
   ]
  },
  {
   "cell_type": "code",
   "execution_count": null,
   "id": "e8e19141-e2d7-4d42-abc6-68144eee0a19",
   "metadata": {},
   "outputs": [],
   "source": []
  }
 ],
 "metadata": {
  "kernelspec": {
   "display_name": "Python 3 (ipykernel)",
   "language": "python",
   "name": "python3"
  },
  "language_info": {
   "codemirror_mode": {
    "name": "ipython",
    "version": 3
   },
   "file_extension": ".py",
   "mimetype": "text/x-python",
   "name": "python",
   "nbconvert_exporter": "python",
   "pygments_lexer": "ipython3",
   "version": "3.9.12"
  }
 },
 "nbformat": 4,
 "nbformat_minor": 5
}
